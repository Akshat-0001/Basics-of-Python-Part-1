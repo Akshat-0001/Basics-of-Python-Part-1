{
  "nbformat": 4,
  "nbformat_minor": 0,
  "metadata": {
    "colab": {
      "provenance": [],
      "collapsed_sections": [],
      "include_colab_link": true
    },
    "kernelspec": {
      "name": "python3",
      "display_name": "Python 3"
    },
    "language_info": {
      "name": "python"
    }
  },
  "cells": [
    {
      "cell_type": "markdown",
      "metadata": {
        "id": "view-in-github",
        "colab_type": "text"
      },
      "source": [
        "<a href=\"https://colab.research.google.com/github/Akshat-0001/Google-Colab.PythonExample/blob/main/PythonIntroEx.ipynb\" target=\"_parent\"><img src=\"https://colab.research.google.com/assets/colab-badge.svg\" alt=\"Open In Colab\"/></a>"
      ]
    },
    {
      "cell_type": "code",
      "execution_count": 2,
      "metadata": {
        "colab": {
          "base_uri": "https://localhost:8080/"
        },
        "id": "3Tuiz3KKjGTB",
        "outputId": "e4657b33-aae9-491d-8412-1cbc757fb405"
      },
      "outputs": [
        {
          "output_type": "stream",
          "name": "stdout",
          "text": [
            "Hello World!!\n"
          ]
        }
      ],
      "source": [
        "#-------------------------------------------\n",
        "#1.1: Displaying Hello World ||\n",
        "#-------------------------------------------\n",
        "print('''Hello World!!''') # To Display"
      ]
    },
    {
      "cell_type": "code",
      "source": [
        "#-------------------------------------------\n",
        "#1.2: Declaring a variable and printing it ||\n",
        "#-------------------------------------------\n",
        "a = 300\n",
        "a"
      ],
      "metadata": {
        "colab": {
          "base_uri": "https://localhost:8080/"
        },
        "id": "Ln4Y6ho-k2in",
        "outputId": "1a8ee690-025e-4ecd-8799-39387d8ed0d3"
      },
      "execution_count": null,
      "outputs": [
        {
          "output_type": "execute_result",
          "data": {
            "text/plain": [
              "300"
            ]
          },
          "metadata": {},
          "execution_count": 8
        }
      ]
    },
    {
      "cell_type": "code",
      "source": [
        "b = \"Shukla\"\n",
        "b"
      ],
      "metadata": {
        "colab": {
          "base_uri": "https://localhost:8080/",
          "height": 36
        },
        "id": "DNiv9clwk2ui",
        "outputId": "e5056874-7298-440c-973a-f808462487f5"
      },
      "execution_count": null,
      "outputs": [
        {
          "output_type": "execute_result",
          "data": {
            "text/plain": [
              "'Shukla'"
            ],
            "application/vnd.google.colaboratory.intrinsic+json": {
              "type": "string"
            }
          },
          "metadata": {},
          "execution_count": 12
        }
      ]
    },
    {
      "cell_type": "code",
      "source": [
        "a = 300\n",
        "a\n",
        "b = \"Akshat\"\n",
        "b"
      ],
      "metadata": {
        "colab": {
          "base_uri": "https://localhost:8080/",
          "height": 36
        },
        "id": "1XHol-xcllsn",
        "outputId": "2e0d0ceb-a466-4947-b477-fe8da8b03def"
      },
      "execution_count": null,
      "outputs": [
        {
          "output_type": "execute_result",
          "data": {
            "text/plain": [
              "'Akshat'"
            ],
            "application/vnd.google.colaboratory.intrinsic+json": {
              "type": "string"
            }
          },
          "metadata": {},
          "execution_count": 10
        }
      ]
    },
    {
      "cell_type": "code",
      "source": [
        "a = 300\n",
        "a\n",
        "b = \"Akshat\"\n",
        "b\n",
        "print (\"a -->\", a) #Print the value of a\n",
        "print (\"b -->\", b) #Print the value of b"
      ],
      "metadata": {
        "colab": {
          "base_uri": "https://localhost:8080/"
        },
        "id": "UhO_tf2wmr8V",
        "outputId": "a368f865-c363-4a25-db1a-4478a1f94b98"
      },
      "execution_count": null,
      "outputs": [
        {
          "output_type": "stream",
          "name": "stdout",
          "text": [
            "a --> 300\n",
            "b --> Akshat\n"
          ]
        }
      ]
    },
    {
      "cell_type": "code",
      "source": [
        "#-----------------------------------\n",
        "# 2.1.1 Use of Arithmetic operators\n",
        "#-----------------------------------\n",
        "a = 7624\n",
        "b = 254\n",
        "\n",
        "c = a + b #Use of + Addition\n",
        "print (a, \"+\", \"-->\", c)\n",
        "\n",
        "c = a - b #Use of - Subtraction\n",
        "print (a, \"-\", \"-->\", c)\n",
        "\n",
        "c = a * b #Use of * Multiplication\n",
        "print (a, \"*\", \"-->\", c)\n",
        "\n",
        "c = a / b #Use of / Divison\n",
        "print (a, \"/\", \"-->\", c)\n",
        "\n",
        "c = a % b #Use of % Modulus (reminder is displayed)\n",
        "print (a, \"%\", \"-->\", c)\n",
        "\n"
      ],
      "metadata": {
        "colab": {
          "base_uri": "https://localhost:8080/"
        },
        "id": "jm7mymRWo3q3",
        "outputId": "5b6625ea-f9b9-4d89-8513-32f7f8707653"
      },
      "execution_count": null,
      "outputs": [
        {
          "output_type": "stream",
          "name": "stdout",
          "text": [
            "7624 + --> 7878\n",
            "7624 - --> 7370\n",
            "7624 * --> 1936496\n",
            "7624 / --> 30.015748031496063\n",
            "7624 % --> 4\n"
          ]
        }
      ]
    },
    {
      "cell_type": "code",
      "source": [
        "#---------------------------------------------------\n",
        "# 2.1.2 Use of Division (/) and floor division (//)\n",
        "#---------------------------------------------------\n",
        "a = 4256\n",
        "b = 1278\n",
        "\n",
        "c = a / b       # Use of /\n",
        "print (a, \" /\", b, \"-->\", c)\n",
        "\n",
        "c = a // b      # Use of //\n",
        "print (a, \"//\", b, \"-->\", c)\n"
      ],
      "metadata": {
        "id": "94rRpYoYqMhY",
        "outputId": "416cfcee-c666-4ccc-c789-fe41fb81496e",
        "colab": {
          "base_uri": "https://localhost:8080/"
        }
      },
      "execution_count": null,
      "outputs": [
        {
          "output_type": "stream",
          "name": "stdout",
          "text": [
            "4256  / 1278 --> 3.3302034428794993\n",
            "4256 // 1278 --> 3\n"
          ]
        }
      ]
    },
    {
      "cell_type": "code",
      "source": [
        "#----------------------------\n",
        "# 2.1.3 Use of Exponent (**)\n",
        "#----------------------------\n",
        "a = 2\n",
        "b = 4\n",
        "\n",
        "c = a ** b       # Use of ** (Exponent)\n",
        "print (a, \"**\", b, \"-->\", c)"
      ],
      "metadata": {
        "id": "niQDwOrDqta_",
        "outputId": "917aed7b-956a-4d22-afd5-3d1b3995b12b",
        "colab": {
          "base_uri": "https://localhost:8080/"
        }
      },
      "execution_count": null,
      "outputs": [
        {
          "output_type": "stream",
          "name": "stdout",
          "text": [
            "2 ** 4 --> 16\n"
          ]
        }
      ]
    },
    {
      "cell_type": "code",
      "source": [
        "#-------------------------------\n",
        "#2.2 Use of Bitwise Operators\n",
        "#-------------------------------\n",
        "# Use of & (and) operator\n",
        "a = 0\n",
        "b = 1\n",
        "d = 1\n",
        "\n",
        "c = a & b #Use of & (bitwise and)\n",
        "print (a, \"&\", b, \"-->\", c)\n",
        "\n",
        "c = d & b #Use of & (bitwise and)\n",
        "print (d, \"&\", b, \"-->\", c)"
      ],
      "metadata": {
        "colab": {
          "base_uri": "https://localhost:8080/"
        },
        "id": "MQdeiMhWrQJ6",
        "outputId": "a8b5975a-e68d-40f7-b60c-3fc729b68d46"
      },
      "execution_count": null,
      "outputs": [
        {
          "output_type": "stream",
          "name": "stdout",
          "text": [
            "0 & 1 --> 0\n",
            "1 & 1 --> 1\n"
          ]
        }
      ]
    },
    {
      "cell_type": "code",
      "source": [
        "#---------------------------------\n",
        "#Another example of \"and\" operator\n",
        "#---------------------------------\n",
        "a = 10\n",
        "b = 20\n",
        "d = 10\n",
        "\n",
        "c = a & b #Use of & (bitwise and)\n",
        "print (a, \"&\", b, \"-->\", c)\n",
        "\n",
        "c = d & b #Use of & (bitwise and)\n",
        "print (d, \"&\", b, \"-->\", c)"
      ],
      "metadata": {
        "colab": {
          "base_uri": "https://localhost:8080/"
        },
        "id": "58yySqBAsMqS",
        "outputId": "2f065c90-4993-4ba6-f95c-06926cffd644"
      },
      "execution_count": 3,
      "outputs": [
        {
          "output_type": "stream",
          "name": "stdout",
          "text": [
            "10 & 20 --> 0\n",
            "10 & 20 --> 0\n"
          ]
        }
      ]
    },
    {
      "cell_type": "code",
      "source": [
        "#-----------------------------\n",
        "#2.2.2 Use of | (or) operator\n",
        "#-----------------------------\n",
        "a = 1\n",
        "b = 0\n",
        "d = 1\n",
        "\n",
        "c = a | b      #Use of |\n",
        "print (a, \"|\", b, \"-->\", c)\n",
        "\n",
        "c = d | b      #Use of |\n",
        "print (d, \"|\", b, \"-->\", c)"
      ],
      "metadata": {
        "colab": {
          "base_uri": "https://localhost:8080/"
        },
        "id": "BFOF5L7nvOJp",
        "outputId": "9be43853-7a11-41f7-a7d0-c5f8a7beff9d"
      },
      "execution_count": null,
      "outputs": [
        {
          "output_type": "stream",
          "name": "stdout",
          "text": [
            "1 | 0 --> 1\n",
            "1 | 0 --> 1\n"
          ]
        }
      ]
    },
    {
      "cell_type": "code",
      "source": [
        "#-------------------------------\n",
        "#2.2.3: Use of ~ (not) operator\n",
        "#-------------------------------\n",
        "a = 0\n",
        "b = 1\n",
        "\n",
        "c = ~a #Use of ~\n",
        "print (\"~\", a, \"-->\", c) #sign bit is used\n",
        "\n",
        "c = ~b #Use of ~\n",
        "print (\"~\", b, \"-->\", c) #sign bit is used"
      ],
      "metadata": {
        "colab": {
          "base_uri": "https://localhost:8080/"
        },
        "id": "0xQX8u6Zvhc5",
        "outputId": "8bda0ebc-2412-4423-c59b-2d09a8867ae2"
      },
      "execution_count": null,
      "outputs": [
        {
          "output_type": "stream",
          "name": "stdout",
          "text": [
            "~ 0 --> -1\n",
            "~ 1 --> -2\n"
          ]
        }
      ]
    },
    {
      "cell_type": "code",
      "source": [
        "#---------------------------------\n",
        "#Another example of not operator\n",
        "#---------------------------------\n",
        "a = 15\n",
        "b = 5\n",
        "\n",
        "c = ~a #Use of ~\n",
        "print (\"~\", a, \"-->\", c) #sign bit is used\n",
        "\n",
        "c = ~b #Use of ~\n",
        "print (\"~\", b, \"-->\", c) #sign bit is used"
      ],
      "metadata": {
        "colab": {
          "base_uri": "https://localhost:8080/"
        },
        "id": "jxrcU4EHxA7g",
        "outputId": "836fd70d-a538-4074-b0de-4883d89de5a4"
      },
      "execution_count": null,
      "outputs": [
        {
          "output_type": "stream",
          "name": "stdout",
          "text": [
            "~ 15 --> -16\n",
            "~ 5 --> -6\n"
          ]
        }
      ]
    },
    {
      "cell_type": "code",
      "source": [
        "#-----------------------\n",
        "#2.2.4: Use of ^ (xor) operator\n",
        "#-----------------------\n",
        "\n",
        "a = 1\n",
        "b = 0\n",
        "d = 1\n",
        "\n",
        "c = a ^ b #Use of ^\n",
        "print (a, \"^\", b, \"-->\", c)\n",
        "\n",
        "c = d ^ b #Use of ^\n",
        "print (d, \"^\", b, \"-->\", c)"
      ],
      "metadata": {
        "colab": {
          "base_uri": "https://localhost:8080/"
        },
        "id": "fyuavlnox_Y8",
        "outputId": "cb4e4672-31d0-4250-e0e2-e4cabe864539"
      },
      "execution_count": null,
      "outputs": [
        {
          "output_type": "stream",
          "name": "stdout",
          "text": [
            "1 ^ 0 --> 1\n",
            "1 ^ 0 --> 1\n"
          ]
        }
      ]
    },
    {
      "cell_type": "code",
      "source": [
        "#--------------------------------\n",
        "#2.2.5: Use of >> (right shift) opertors\n",
        "#--------------------------------\n",
        "\n",
        "a = 30\n",
        "b = 2\n",
        "d = 1\n",
        "\n",
        "c = a >> b #Use of >>\n",
        "print (a, \">>\", b, \"-->\", c)\n",
        "\n",
        "c = d >> b #Use of >>\n",
        "print (d, \">>\", b, \"-->\", c)"
      ],
      "metadata": {
        "colab": {
          "base_uri": "https://localhost:8080/"
        },
        "id": "_iH8fgQUzWj2",
        "outputId": "7e53a9e5-c769-4a24-bfa6-ba35e27ae209"
      },
      "execution_count": null,
      "outputs": [
        {
          "output_type": "stream",
          "name": "stdout",
          "text": [
            "30 >> 2 --> 7\n",
            "1 >> 2 --> 0\n"
          ]
        }
      ]
    },
    {
      "cell_type": "code",
      "source": [
        "#--------------------------------\n",
        "#2.2.6: Use of << (left shift) opertors\n",
        "#--------------------------------\n",
        "\n",
        "a = 10\n",
        "b = 0\n",
        "d = 2\n",
        "\n",
        "c = a >> b #Use of <<\n",
        "print (a, \"<<\", b, \"-->\", c)\n",
        "\n",
        "c = d >> b #Use of <<\n",
        "print (d, \"<<\", b, \"-->\", c)"
      ],
      "metadata": {
        "id": "4WK2r67jtrNn",
        "outputId": "872ecc1d-c9da-48a6-a2d8-aee97286262a",
        "colab": {
          "base_uri": "https://localhost:8080/"
        }
      },
      "execution_count": null,
      "outputs": [
        {
          "output_type": "stream",
          "name": "stdout",
          "text": [
            "10 << 0 --> 10\n",
            "2 << 0 --> 2\n"
          ]
        }
      ]
    },
    {
      "cell_type": "code",
      "source": [
        "#--------------------------------------\n",
        "# 2.3 Use of Assignment Operators\n",
        "#--------------------------------------\n",
        "# 2.3.1: Use of +=\n",
        "#--------------------------------------\n",
        "a = 12\n",
        "print (\"a  =\", a)\n",
        "\n",
        "a += 45 \n",
        "print (\"a += 45 -->\", a)"
      ],
      "metadata": {
        "id": "chN3q3-9trR-",
        "outputId": "70cde963-d923-4bd9-fd4a-8102aca1c677",
        "colab": {
          "base_uri": "https://localhost:8080/"
        }
      },
      "execution_count": 8,
      "outputs": [
        {
          "output_type": "stream",
          "name": "stdout",
          "text": [
            "a  = 12\n",
            "a += 45 --> 57\n"
          ]
        }
      ]
    },
    {
      "cell_type": "code",
      "source": [
        "#------------------\n",
        "# 2.3.2: Use of -= \n",
        "#------------------\n",
        "a = 200\n",
        "print (\"a  =\", a)\n",
        "\n",
        "a -= 45   \n",
        "print (\"a -= 45 -->\", a)\n"
      ],
      "metadata": {
        "id": "N9MlnrpUtrU2",
        "outputId": "2e73644b-0228-4371-bf2d-9027b5fc8571",
        "colab": {
          "base_uri": "https://localhost:8080/"
        }
      },
      "execution_count": 9,
      "outputs": [
        {
          "output_type": "stream",
          "name": "stdout",
          "text": [
            "a  = 200\n",
            "a -= 45 --> 155\n"
          ]
        }
      ]
    },
    {
      "cell_type": "code",
      "source": [
        "#------------------\n",
        "# 2.3.3: Use of *=\n",
        "#------------------\n",
        "a = 35\n",
        "print (\"a  =\", a)\n",
        "\n",
        "a *= 15\n",
        "print (\"a *= 15 -->\", a)"
      ],
      "metadata": {
        "id": "b5cahLCRtrX1",
        "outputId": "b3ac1f1d-972c-4c66-85fc-75b93e5b05be",
        "colab": {
          "base_uri": "https://localhost:8080/"
        }
      },
      "execution_count": 10,
      "outputs": [
        {
          "output_type": "stream",
          "name": "stdout",
          "text": [
            "a  = 35\n",
            "a *= 15 --> 525\n"
          ]
        }
      ]
    },
    {
      "cell_type": "code",
      "source": [
        "#--------------------------\n",
        "# 2.3.4: Use of /= and //=\n",
        "#--------------------------\n",
        "a = 35\n",
        "print (\"\\n a  =\", a)\n",
        "\n",
        "a /= 5\n",
        "print (\" a /= 5  -->\", a)\n",
        "\n",
        "a = 35\n",
        "print (\"\\n a   =\", a)\n",
        "\n",
        "a //= 5   \n",
        "print (\" a //= 5 -->\", a)"
      ],
      "metadata": {
        "id": "rFXT1ipftraW",
        "outputId": "1214c9d7-08ec-4ba2-e9dd-079b7116b831",
        "colab": {
          "base_uri": "https://localhost:8080/"
        }
      },
      "execution_count": 12,
      "outputs": [
        {
          "output_type": "stream",
          "name": "stdout",
          "text": [
            "\n",
            " a  = 35\n",
            " a /= 5  --> 7.0\n",
            "\n",
            " a   = 35\n",
            " a //= 5 --> 7\n"
          ]
        }
      ]
    },
    {
      "cell_type": "code",
      "source": [
        "#-----------------------------------\n",
        "# 3.1: Input from user and print it\n",
        "#-----------------------------------\n",
        "a = input(\"Enter Anything(Name/Number): \")\n",
        "print(\"\\nYour Input is           -->\",a)"
      ],
      "metadata": {
        "id": "drTpiwkTDDdm",
        "outputId": "9ab9f30f-007a-465f-98e0-a948146c3613",
        "colab": {
          "base_uri": "https://localhost:8080/"
        }
      },
      "execution_count": 17,
      "outputs": [
        {
          "output_type": "stream",
          "name": "stdout",
          "text": [
            "Enter Anything(Name/Number): Akshat 0603\n",
            "\n",
            "Your Input is           --> Akshat 0603\n"
          ]
        }
      ]
    },
    {
      "cell_type": "code",
      "source": [
        "#------------------------------\n",
        "# 3.2.1: Concatenate two strings\n",
        "#------------------------------\n",
        "a = input(\"Enter First String : \")\n",
        "b = input(\"Enter Second String: \")\n",
        "c = a + b  #Concatenate two strings\n",
        "print(\"\")\n",
        "print(a, \"+\", b, \"-->\", c)"
      ],
      "metadata": {
        "id": "VUwkcHmsDSkO",
        "outputId": "dcd96556-c57a-4688-cef0-d740822566b2",
        "colab": {
          "base_uri": "https://localhost:8080/"
        }
      },
      "execution_count": 18,
      "outputs": [
        {
          "output_type": "stream",
          "name": "stdout",
          "text": [
            "Enter First String : Akshat\n",
            "Enter Second String: Shukla\n",
            "\n",
            "Akshat + Shukla --> AkshatShukla\n"
          ]
        }
      ]
    },
    {
      "cell_type": "code",
      "source": [
        "#-------------------------------------------\n",
        "# 3.2.2: Concatenate two strings (numbers)\n",
        "#-------------------------------------------\n",
        "a = input(\"Enter First String : \")\n",
        "b = input(\"Enter Second String: \")\n",
        "c = a + b  #Concatenate two strings\n",
        "print(\"\")\n",
        "print(a, \"+\", b, \"-->\", c)"
      ],
      "metadata": {
        "id": "8EdnA4esDhOV",
        "outputId": "2163d356-aea2-46bd-9643-6d3704630707",
        "colab": {
          "base_uri": "https://localhost:8080/"
        }
      },
      "execution_count": 19,
      "outputs": [
        {
          "output_type": "stream",
          "name": "stdout",
          "text": [
            "Enter First String : 52\n",
            "Enter Second String: 69\n",
            "\n",
            "52 + 69 --> 5269\n"
          ]
        }
      ]
    },
    {
      "cell_type": "code",
      "source": [
        "#----------------------------------------------\n",
        "# 3.3: Input two numbers from user and add them\n",
        "#----------------------------------------------\n",
        "a = int(input(\"Enter First No : \"))\n",
        "b = int(input(\"Enter Second No: \"))\n",
        "c = a + b\n",
        "print (\"\")\n",
        "print (a, \"+\", b, \"-->\", c)"
      ],
      "metadata": {
        "id": "UlVuuJojtrwW",
        "outputId": "6f90af86-7217-484b-afcd-ab7f1e56c161",
        "colab": {
          "base_uri": "https://localhost:8080/"
        }
      },
      "execution_count": 15,
      "outputs": [
        {
          "output_type": "stream",
          "name": "stdout",
          "text": [
            "Enter First No : 34\n",
            "Enter Second No: 35\n",
            "\n",
            "34 + 35 --> 69\n"
          ]
        }
      ]
    },
    {
      "cell_type": "code",
      "source": [
        "#--------------------------------------\n",
        "# 3.4.1: Concatinate String and Number\n",
        "#--------------------------------------\n",
        "c = \"143\" + \"Nobody\"\n",
        "print (\"c -->\",c)\n"
      ],
      "metadata": {
        "id": "aSxSCOpgtryn",
        "outputId": "d9d45df4-c8bc-4250-bbf2-34179a6f2233",
        "colab": {
          "base_uri": "https://localhost:8080/"
        }
      },
      "execution_count": 22,
      "outputs": [
        {
          "output_type": "stream",
          "name": "stdout",
          "text": [
            "c --> 143Nobody\n"
          ]
        }
      ]
    },
    {
      "cell_type": "code",
      "source": [
        "#-------------------------------------\n",
        "# 3.4.2: Concatinate String and Number\n",
        "#-------------------------------------\n",
        "a = 143\n",
        "b = \"fake\"\n",
        "c = str(a) + b\n",
        "\n",
        "print (a, \"+\", b, \"-->\", c)\n"
      ],
      "metadata": {
        "id": "XRP-fjbstr1A",
        "outputId": "36995e1a-3ddf-43f7-e5d3-3d33538dacf9",
        "colab": {
          "base_uri": "https://localhost:8080/"
        }
      },
      "execution_count": 24,
      "outputs": [
        {
          "output_type": "stream",
          "name": "stdout",
          "text": [
            "143 + fake --> 143fake\n"
          ]
        }
      ]
    },
    {
      "cell_type": "code",
      "source": [
        "#---------------------------------------------------\n",
        "# 4.1: Input two numbers from user and compare them\n",
        "#---------------------------------------------------\n",
        "a = int(input(\"Enter First No: \"))\n",
        "b = int(input(\"Enter Second No: \"))\n",
        "if  a > b: \n",
        "    print (a,\">\",b)\n",
        "else:\n",
        "    print (a,\"<\",b)"
      ],
      "metadata": {
        "id": "H0xjnzGItr2e",
        "outputId": "e7b4374d-7277-49ab-8e01-b404833db338",
        "colab": {
          "base_uri": "https://localhost:8080/"
        }
      },
      "execution_count": 26,
      "outputs": [
        {
          "output_type": "stream",
          "name": "stdout",
          "text": [
            "Enter First No: 47\n",
            "Enter Second No: 58\n",
            "47 < 58\n"
          ]
        }
      ]
    },
    {
      "cell_type": "code",
      "source": [
        "#-------------------------------------------\n",
        "# 4.2: Check weather a number is odd or even:\n",
        "#-------------------------------------------\n",
        "n = int(input(\"Enter a Number: \"))\n",
        "if  n % 2 == 0: \n",
        "    print (n, \"is even\")\n",
        "else:\n",
        "    print (n, \"is odd\")"
      ],
      "metadata": {
        "id": "Cdd8NoEPEv7o",
        "outputId": "d1dec280-fabc-4772-c09c-de3e49c318cc",
        "colab": {
          "base_uri": "https://localhost:8080/"
        }
      },
      "execution_count": 28,
      "outputs": [
        {
          "output_type": "stream",
          "name": "stdout",
          "text": [
            "Enter a Number: 45\n",
            "45 is odd\n"
          ]
        }
      ]
    },
    {
      "cell_type": "code",
      "source": [
        "#-------------------\n",
        "# 4.4.1: Use of and\n",
        "#-------------------\n",
        "a = 36\n",
        "b = 72\n",
        "\n",
        "if a == 10 and b == 20: \n",
        "    print (\"Accepted\")\n",
        "elif a >= b: \n",
        "    print (\"Rejected\")\n",
        "else:\n",
        "    print (\"On Hold\")"
      ],
      "metadata": {
        "id": "nwXMeRGJHnjf",
        "outputId": "8ffb48a7-148f-4584-f5bf-f83df84626d0",
        "colab": {
          "base_uri": "https://localhost:8080/"
        }
      },
      "execution_count": 30,
      "outputs": [
        {
          "output_type": "stream",
          "name": "stdout",
          "text": [
            "On Hold\n"
          ]
        }
      ]
    },
    {
      "cell_type": "code",
      "source": [
        "#-----------------\n",
        "# 4.4.5: Use of or\n",
        "#-----------------\n",
        "a = 0\n",
        "b = 1\n",
        "print (\"a or b -->\", a or b)\n",
        "print (\"a  | b -->\", a | b)"
      ],
      "metadata": {
        "id": "PbpChhLrGfo-",
        "outputId": "f65cc597-6809-4abc-a44e-c2632b04a8c0",
        "colab": {
          "base_uri": "https://localhost:8080/"
        }
      },
      "execution_count": 35,
      "outputs": [
        {
          "output_type": "stream",
          "name": "stdout",
          "text": [
            "a or b --> 1\n",
            "a  | b --> 1\n"
          ]
        }
      ]
    },
    {
      "cell_type": "code",
      "source": [
        "#------------------\n",
        "# 4.4.7: Use of not\n",
        "#------------------\n",
        "a = 0\n",
        "print(\"a     -->\", a)\n",
        "print(\"not a -->\", not a)"
      ],
      "metadata": {
        "id": "LSZtVOEKEv-Q",
        "outputId": "a2c568a3-04dc-4f05-caef-a637a5588fec",
        "colab": {
          "base_uri": "https://localhost:8080/"
        }
      },
      "execution_count": 40,
      "outputs": [
        {
          "output_type": "stream",
          "name": "stdout",
          "text": [
            "a     --> 0\n",
            "not a --> True\n"
          ]
        }
      ]
    },
    {
      "cell_type": "code",
      "source": [
        "#--------------------------------------\n",
        "# 4.5: Identity Operators (is, is not)\n",
        "#--------------------------------------\n",
        "a = 62\n",
        "b = 48\n",
        "print (\"a is a     -->\", a is a)\n",
        "print (\"a is not a -->\", a is not a)\n",
        "print(\"\")\n",
        "print (\"a is b     -->\", a is b)\n",
        "print (\"a is not b -->\", a is not b)"
      ],
      "metadata": {
        "id": "G3lYZtVXEwBr",
        "outputId": "43234718-bf76-4cb4-e3dd-d3cdd0ade464",
        "colab": {
          "base_uri": "https://localhost:8080/"
        }
      },
      "execution_count": 41,
      "outputs": [
        {
          "output_type": "stream",
          "name": "stdout",
          "text": [
            "a is a     --> True\n",
            "a is not a --> False\n",
            "\n",
            "a is b     --> False\n",
            "a is not b --> True\n"
          ]
        }
      ]
    },
    {
      "cell_type": "code",
      "source": [
        "#---------------------------------------\n",
        "# 4.6: Membership Operators (in, not in)\n",
        "#---------------------------------------\n",
        "a = [62, 74, 98]\n",
        "\n",
        "print (\"74 in a     -->\",74 in a)\n",
        "print (\"62 in a     -->\",62 in a)\n",
        "\n",
        "print (\"\")\n",
        "print (\"52 not in a -->\",52 not in a)\n",
        "print (\"62 not in a -->\",62 not in a)\n"
      ],
      "metadata": {
        "id": "uvu4eplEEwEK",
        "outputId": "4a4f10f4-0447-4b06-da4a-649e1e5e9604",
        "colab": {
          "base_uri": "https://localhost:8080/"
        }
      },
      "execution_count": 48,
      "outputs": [
        {
          "output_type": "stream",
          "name": "stdout",
          "text": [
            "74 in a     --> True\n",
            "62 in a     --> True\n",
            "\n",
            "52 not in a --> True\n",
            "62 not in a --> False\n"
          ]
        }
      ]
    },
    {
      "cell_type": "code",
      "source": [
        "#Assingment 3.1: WAP to add three numbers, inputs from user and print result\n",
        "\n",
        "a = int(input(\"Enter first number:\"))\n",
        "b = int(input(\"Enter second number:\"))\n",
        "c = int(input(\"Enter third number:\"))\n",
        "sum = a+b+c\n",
        "print(sum)"
      ],
      "metadata": {
        "id": "UmvJUyfsEwMG",
        "outputId": "86b05f35-6ecc-4749-9884-d111be5f2b3e",
        "colab": {
          "base_uri": "https://localhost:8080/"
        }
      },
      "execution_count": 49,
      "outputs": [
        {
          "output_type": "stream",
          "name": "stdout",
          "text": [
            "Enter first number:45\n",
            "Enter second number:26\n",
            "Enter third number:37\n",
            "108\n"
          ]
        }
      ]
    },
    {
      "cell_type": "code",
      "source": [
        "##Assingment 3.2: WAP to concatinate three strings, inputs from user and print\n",
        "\n",
        "a = input(\"Enter first string:\")\n",
        "b = input(\"Enter second string:\")\n",
        "c = input(\"Enter third number:\")\n",
        "d = str(a) + str(b) + str(c)\n",
        "\n",
        "print (a, \"+\", b, \"+\", c, \"-->\", d)"
      ],
      "metadata": {
        "id": "DnwIU7BlJ9jP",
        "outputId": "2f24d110-9289-4c93-c9c4-741a0a4cc763",
        "colab": {
          "base_uri": "https://localhost:8080/"
        }
      },
      "execution_count": 52,
      "outputs": [
        {
          "output_type": "stream",
          "name": "stdout",
          "text": [
            "Enter first string:Akshat\n",
            "Enter second string:Shukla\n",
            "Enter third number:0603\n",
            "Akshat + Shukla + 0603 --> AkshatShukla0603\n"
          ]
        }
      ]
    },
    {
      "cell_type": "code",
      "source": [
        "#Assingment 4.1: WAP to find max among three numbers and input from user\n",
        "\n",
        "a = int(input(\"Enter first number:\"))\n",
        "b = int(input(\"Enter second number:\"))\n",
        "c = int(input(\"Enter third number:\"))\n",
        "print(\"Greatest number among three is -->\", max(a, b, c))\n"
      ],
      "metadata": {
        "id": "MRvaP2iVL7Hd",
        "outputId": "8bc7a073-56cc-41de-9d52-d61aa179db92",
        "colab": {
          "base_uri": "https://localhost:8080/"
        }
      },
      "execution_count": 55,
      "outputs": [
        {
          "output_type": "stream",
          "name": "stdout",
          "text": [
            "Enter first number:45\n",
            "Enter second number:25\n",
            "Enter third number:76\n",
            "Greatest number among three is --> 76\n"
          ]
        }
      ]
    }
  ]
}