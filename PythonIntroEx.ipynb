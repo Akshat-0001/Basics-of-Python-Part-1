{
  "nbformat": 4,
  "nbformat_minor": 0,
  "metadata": {
    "colab": {
      "provenance": [],
      "collapsed_sections": [],
      "authorship_tag": "ABX9TyOIXEKKaP5AitF8Hqt/Z59A",
      "include_colab_link": true
    },
    "kernelspec": {
      "name": "python3",
      "display_name": "Python 3"
    },
    "language_info": {
      "name": "python"
    }
  },
  "cells": [
    {
      "cell_type": "markdown",
      "metadata": {
        "id": "view-in-github",
        "colab_type": "text"
      },
      "source": [
        "<a href=\"https://colab.research.google.com/github/Akshat-0001/Google-Colab.PythonExample/blob/main/PythonIntroEx.ipynb\" target=\"_parent\"><img src=\"https://colab.research.google.com/assets/colab-badge.svg\" alt=\"Open In Colab\"/></a>"
      ]
    },
    {
      "cell_type": "code",
      "execution_count": 4,
      "metadata": {
        "colab": {
          "base_uri": "https://localhost:8080/"
        },
        "id": "3Tuiz3KKjGTB",
        "outputId": "190c93e0-81c6-4f78-d32f-20a14d39e86b"
      },
      "outputs": [
        {
          "output_type": "stream",
          "name": "stdout",
          "text": [
            "Hello World ||\n"
          ]
        }
      ],
      "source": [
        "#-------------------------------------------\n",
        "#1.1: Hello World ||\n",
        "#-------------------------------------------\n",
        "print('''Hello World ||''') # To Display"
      ]
    },
    {
      "cell_type": "code",
      "source": [
        "a = 300\n",
        "a"
      ],
      "metadata": {
        "colab": {
          "base_uri": "https://localhost:8080/"
        },
        "id": "Ln4Y6ho-k2in",
        "outputId": "1a8ee690-025e-4ecd-8799-39387d8ed0d3"
      },
      "execution_count": 8,
      "outputs": [
        {
          "output_type": "execute_result",
          "data": {
            "text/plain": [
              "300"
            ]
          },
          "metadata": {},
          "execution_count": 8
        }
      ]
    },
    {
      "cell_type": "code",
      "source": [
        "b = \"Shukla\"\n",
        "b"
      ],
      "metadata": {
        "colab": {
          "base_uri": "https://localhost:8080/",
          "height": 36
        },
        "id": "DNiv9clwk2ui",
        "outputId": "e5056874-7298-440c-973a-f808462487f5"
      },
      "execution_count": 12,
      "outputs": [
        {
          "output_type": "execute_result",
          "data": {
            "text/plain": [
              "'Shukla'"
            ],
            "application/vnd.google.colaboratory.intrinsic+json": {
              "type": "string"
            }
          },
          "metadata": {},
          "execution_count": 12
        }
      ]
    },
    {
      "cell_type": "code",
      "source": [
        "a = 300\n",
        "a\n",
        "b = \"Akshat\"\n",
        "b"
      ],
      "metadata": {
        "colab": {
          "base_uri": "https://localhost:8080/",
          "height": 36
        },
        "id": "1XHol-xcllsn",
        "outputId": "2e0d0ceb-a466-4947-b477-fe8da8b03def"
      },
      "execution_count": 10,
      "outputs": [
        {
          "output_type": "execute_result",
          "data": {
            "text/plain": [
              "'Akshat'"
            ],
            "application/vnd.google.colaboratory.intrinsic+json": {
              "type": "string"
            }
          },
          "metadata": {},
          "execution_count": 10
        }
      ]
    },
    {
      "cell_type": "code",
      "source": [
        "a = 300\n",
        "a\n",
        "b = \"Akshat\"\n",
        "b\n",
        "print (\"a -->\", a) #Print the value of a\n",
        "print (\"b -->\", b) #Print the value of b"
      ],
      "metadata": {
        "colab": {
          "base_uri": "https://localhost:8080/"
        },
        "id": "UhO_tf2wmr8V",
        "outputId": "a368f865-c363-4a25-db1a-4478a1f94b98"
      },
      "execution_count": 13,
      "outputs": [
        {
          "output_type": "stream",
          "name": "stdout",
          "text": [
            "a --> 300\n",
            "b --> Akshat\n"
          ]
        }
      ]
    },
    {
      "cell_type": "code",
      "source": [
        "#----------------\n",
        "# Use of operators\n",
        "#----------------\n",
        "a = 7624\n",
        "b = 254\n",
        "\n",
        "c = a + b #Use of + Addition\n",
        "print (a, \"+\", \"-->\", c)\n",
        "\n",
        "c = a - b #Use of - Subtraction\n",
        "print (a, \"-\", \"-->\", c)\n",
        "\n",
        "c = a * b #Use of * Multiplication\n",
        "print (a, \"*\", \"-->\", c)\n",
        "\n",
        "c = a / b #Use of / Divison\n",
        "print (a, \"/\", \"-->\", c)\n",
        "\n",
        "c = a % b #Use of % Modulus (reminder is displayed)\n",
        "print (a, \"%\", \"-->\", c)\n",
        "\n"
      ],
      "metadata": {
        "colab": {
          "base_uri": "https://localhost:8080/"
        },
        "id": "jm7mymRWo3q3",
        "outputId": "5b6625ea-f9b9-4d89-8513-32f7f8707653"
      },
      "execution_count": 19,
      "outputs": [
        {
          "output_type": "stream",
          "name": "stdout",
          "text": [
            "7624 + --> 7878\n",
            "7624 - --> 7370\n",
            "7624 * --> 1936496\n",
            "7624 / --> 30.015748031496063\n",
            "7624 % --> 4\n"
          ]
        }
      ]
    },
    {
      "cell_type": "code",
      "source": [
        "#------------------\n",
        "#Use of Bitwise Operators\n",
        "#------------------\n",
        "#Ex:1\n",
        "a = 0\n",
        "b = 1\n",
        "d = 1\n",
        "\n",
        "c = a & b #Use of & (bitwise and)\n",
        "print (a, \"&\", b, \"-->\", c)\n",
        "\n",
        "c = d & b #Use of & (bitwise and)\n",
        "print (d, \"&\", b, \"-->\", c)"
      ],
      "metadata": {
        "colab": {
          "base_uri": "https://localhost:8080/"
        },
        "id": "MQdeiMhWrQJ6",
        "outputId": "4039e272-c703-41c1-8f16-a47b37fd684d"
      },
      "execution_count": 20,
      "outputs": [
        {
          "output_type": "stream",
          "name": "stdout",
          "text": [
            "0 & 1 --> 0\n",
            "1 & 1 --> 1\n"
          ]
        }
      ]
    },
    {
      "cell_type": "code",
      "source": [
        "#Ex:2\n",
        "a = 20 #010100\n",
        "b = 10 #01010\n",
        "d = 10\n",
        "\n",
        "c = a & b #Use of & (bitwise and)\n",
        "print (a, \"&\", b, \"-->\", c)\n",
        "\n",
        "c = d & b #Use of & (bitwise and)\n",
        "print (d, \"&\", b, \"-->\", c)"
      ],
      "metadata": {
        "colab": {
          "base_uri": "https://localhost:8080/"
        },
        "id": "58yySqBAsMqS",
        "outputId": "fb2da888-b3fd-4ad1-d18f-8ee2c27f71fd"
      },
      "execution_count": 24,
      "outputs": [
        {
          "output_type": "stream",
          "name": "stdout",
          "text": [
            "20 & 10 --> 0\n",
            "10 & 10 --> 10\n"
          ]
        }
      ]
    },
    {
      "cell_type": "code",
      "source": [
        "#Ex 3\n",
        "a = 20\n",
        "b = 10\n",
        "d = 10\n",
        "\n",
        "c = a | b #Use of |\n",
        "print (a, \"|\", b, \"-->\", c)\n",
        "\n",
        "c = d | b #Use of |\n",
        "print (d, \"|\", b, \"-->\", c)"
      ],
      "metadata": {
        "colab": {
          "base_uri": "https://localhost:8080/"
        },
        "id": "BFOF5L7nvOJp",
        "outputId": "615a686e-36a3-412d-d3b4-57bd76083cd7"
      },
      "execution_count": 26,
      "outputs": [
        {
          "output_type": "stream",
          "name": "stdout",
          "text": [
            "20 | 10 --> 30\n",
            "10 | 10 --> 10\n"
          ]
        }
      ]
    },
    {
      "cell_type": "code",
      "source": [],
      "metadata": {
        "id": "0xQX8u6Zvhc5"
      },
      "execution_count": null,
      "outputs": []
    }
  ]
}