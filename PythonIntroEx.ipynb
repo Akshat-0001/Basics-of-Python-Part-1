{
  "nbformat": 4,
  "nbformat_minor": 0,
  "metadata": {
    "colab": {
      "provenance": [],
      "collapsed_sections": [],
      "include_colab_link": true
    },
    "kernelspec": {
      "name": "python3",
      "display_name": "Python 3"
    },
    "language_info": {
      "name": "python"
    }
  },
  "cells": [
    {
      "cell_type": "markdown",
      "metadata": {
        "id": "view-in-github",
        "colab_type": "text"
      },
      "source": [
        "<a href=\"https://colab.research.google.com/github/Akshat-0001/Google-Colab.PythonExample/blob/main/PythonIntroEx.ipynb\" target=\"_parent\"><img src=\"https://colab.research.google.com/assets/colab-badge.svg\" alt=\"Open In Colab\"/></a>"
      ]
    },
    {
      "cell_type": "code",
      "execution_count": null,
      "metadata": {
        "colab": {
          "base_uri": "https://localhost:8080/"
        },
        "id": "3Tuiz3KKjGTB",
        "outputId": "190c93e0-81c6-4f78-d32f-20a14d39e86b"
      },
      "outputs": [
        {
          "output_type": "stream",
          "name": "stdout",
          "text": [
            "Hello World ||\n"
          ]
        }
      ],
      "source": [
        "#-------------------------------------------\n",
        "#1.1: Displaying Hello World ||\n",
        "#-------------------------------------------\n",
        "print('''Hello World ||''') # To Display"
      ]
    },
    {
      "cell_type": "code",
      "source": [
        "#-------------------------------------------\n",
        "#1.2: Declaring a variable and printing it ||\n",
        "#-------------------------------------------\n",
        "a = 300\n",
        "a"
      ],
      "metadata": {
        "colab": {
          "base_uri": "https://localhost:8080/"
        },
        "id": "Ln4Y6ho-k2in",
        "outputId": "1a8ee690-025e-4ecd-8799-39387d8ed0d3"
      },
      "execution_count": null,
      "outputs": [
        {
          "output_type": "execute_result",
          "data": {
            "text/plain": [
              "300"
            ]
          },
          "metadata": {},
          "execution_count": 8
        }
      ]
    },
    {
      "cell_type": "code",
      "source": [
        "b = \"Shukla\"\n",
        "b"
      ],
      "metadata": {
        "colab": {
          "base_uri": "https://localhost:8080/",
          "height": 36
        },
        "id": "DNiv9clwk2ui",
        "outputId": "e5056874-7298-440c-973a-f808462487f5"
      },
      "execution_count": null,
      "outputs": [
        {
          "output_type": "execute_result",
          "data": {
            "text/plain": [
              "'Shukla'"
            ],
            "application/vnd.google.colaboratory.intrinsic+json": {
              "type": "string"
            }
          },
          "metadata": {},
          "execution_count": 12
        }
      ]
    },
    {
      "cell_type": "code",
      "source": [
        "a = 300\n",
        "a\n",
        "b = \"Akshat\"\n",
        "b"
      ],
      "metadata": {
        "colab": {
          "base_uri": "https://localhost:8080/",
          "height": 36
        },
        "id": "1XHol-xcllsn",
        "outputId": "2e0d0ceb-a466-4947-b477-fe8da8b03def"
      },
      "execution_count": null,
      "outputs": [
        {
          "output_type": "execute_result",
          "data": {
            "text/plain": [
              "'Akshat'"
            ],
            "application/vnd.google.colaboratory.intrinsic+json": {
              "type": "string"
            }
          },
          "metadata": {},
          "execution_count": 10
        }
      ]
    },
    {
      "cell_type": "code",
      "source": [
        "a = 300\n",
        "a\n",
        "b = \"Akshat\"\n",
        "b\n",
        "print (\"a -->\", a) #Print the value of a\n",
        "print (\"b -->\", b) #Print the value of b"
      ],
      "metadata": {
        "colab": {
          "base_uri": "https://localhost:8080/"
        },
        "id": "UhO_tf2wmr8V",
        "outputId": "a368f865-c363-4a25-db1a-4478a1f94b98"
      },
      "execution_count": null,
      "outputs": [
        {
          "output_type": "stream",
          "name": "stdout",
          "text": [
            "a --> 300\n",
            "b --> Akshat\n"
          ]
        }
      ]
    },
    {
      "cell_type": "code",
      "source": [
        "#-----------------------------------\n",
        "# 2.1.1 Use of Arithmetic operators\n",
        "#-----------------------------------\n",
        "a = 7624\n",
        "b = 254\n",
        "\n",
        "c = a + b #Use of + Addition\n",
        "print (a, \"+\", \"-->\", c)\n",
        "\n",
        "c = a - b #Use of - Subtraction\n",
        "print (a, \"-\", \"-->\", c)\n",
        "\n",
        "c = a * b #Use of * Multiplication\n",
        "print (a, \"*\", \"-->\", c)\n",
        "\n",
        "c = a / b #Use of / Divison\n",
        "print (a, \"/\", \"-->\", c)\n",
        "\n",
        "c = a % b #Use of % Modulus (reminder is displayed)\n",
        "print (a, \"%\", \"-->\", c)\n",
        "\n"
      ],
      "metadata": {
        "colab": {
          "base_uri": "https://localhost:8080/"
        },
        "id": "jm7mymRWo3q3",
        "outputId": "5b6625ea-f9b9-4d89-8513-32f7f8707653"
      },
      "execution_count": null,
      "outputs": [
        {
          "output_type": "stream",
          "name": "stdout",
          "text": [
            "7624 + --> 7878\n",
            "7624 - --> 7370\n",
            "7624 * --> 1936496\n",
            "7624 / --> 30.015748031496063\n",
            "7624 % --> 4\n"
          ]
        }
      ]
    },
    {
      "cell_type": "code",
      "source": [
        "#---------------------------------------------------\n",
        "# 2.1.2 Use of Division (/) and floor division (//)\n",
        "#---------------------------------------------------\n",
        "a = 4256\n",
        "b = 1278\n",
        "\n",
        "c = a / b       # Use of /\n",
        "print (a, \" /\", b, \"-->\", c)\n",
        "\n",
        "c = a // b      # Use of //\n",
        "print (a, \"//\", b, \"-->\", c)\n"
      ],
      "metadata": {
        "id": "94rRpYoYqMhY",
        "outputId": "416cfcee-c666-4ccc-c789-fe41fb81496e",
        "colab": {
          "base_uri": "https://localhost:8080/"
        }
      },
      "execution_count": 1,
      "outputs": [
        {
          "output_type": "stream",
          "name": "stdout",
          "text": [
            "4256  / 1278 --> 3.3302034428794993\n",
            "4256 // 1278 --> 3\n"
          ]
        }
      ]
    },
    {
      "cell_type": "code",
      "source": [
        "#----------------------------\n",
        "# 2.1.3 Use of Exponent (**)\n",
        "#----------------------------\n",
        "a = 2\n",
        "b = 4\n",
        "\n",
        "c = a ** b       # Use of ** (Exponent)\n",
        "print (a, \"**\", b, \"-->\", c)"
      ],
      "metadata": {
        "id": "niQDwOrDqta_",
        "outputId": "917aed7b-956a-4d22-afd5-3d1b3995b12b",
        "colab": {
          "base_uri": "https://localhost:8080/"
        }
      },
      "execution_count": 3,
      "outputs": [
        {
          "output_type": "stream",
          "name": "stdout",
          "text": [
            "2 ** 4 --> 16\n"
          ]
        }
      ]
    },
    {
      "cell_type": "code",
      "source": [
        "#-------------------------------\n",
        "#2.2 Use of Bitwise Operators\n",
        "#-------------------------------\n",
        "# Use of & (and) operator\n",
        "a = 0\n",
        "b = 1\n",
        "d = 1\n",
        "\n",
        "c = a & b #Use of & (bitwise and)\n",
        "print (a, \"&\", b, \"-->\", c)\n",
        "\n",
        "c = d & b #Use of & (bitwise and)\n",
        "print (d, \"&\", b, \"-->\", c)"
      ],
      "metadata": {
        "colab": {
          "base_uri": "https://localhost:8080/"
        },
        "id": "MQdeiMhWrQJ6",
        "outputId": "a8b5975a-e68d-40f7-b60c-3fc729b68d46"
      },
      "execution_count": 7,
      "outputs": [
        {
          "output_type": "stream",
          "name": "stdout",
          "text": [
            "0 & 1 --> 0\n",
            "1 & 1 --> 1\n"
          ]
        }
      ]
    },
    {
      "cell_type": "code",
      "source": [
        "#---------------------------------\n",
        "#Another example of and operator\n",
        "#---------------------------------\n",
        "a = 20 \n",
        "b = 10 \n",
        "d = 10\n",
        "\n",
        "c = a & b #Use of & (bitwise and)\n",
        "print (a, \"&\", b, \"-->\", c)\n",
        "\n",
        "c = d & b #Use of & (bitwise and)\n",
        "print (d, \"&\", b, \"-->\", c)"
      ],
      "metadata": {
        "colab": {
          "base_uri": "https://localhost:8080/"
        },
        "id": "58yySqBAsMqS",
        "outputId": "fb2da888-b3fd-4ad1-d18f-8ee2c27f71fd"
      },
      "execution_count": null,
      "outputs": [
        {
          "output_type": "stream",
          "name": "stdout",
          "text": [
            "20 & 10 --> 0\n",
            "10 & 10 --> 10\n"
          ]
        }
      ]
    },
    {
      "cell_type": "code",
      "source": [
        "#-----------------------------\n",
        "#2.2.2 Use of | (or) operator\n",
        "#-----------------------------\n",
        "a = 1\n",
        "b = 0\n",
        "d = 1\n",
        "\n",
        "c = a | b      #Use of |\n",
        "print (a, \"|\", b, \"-->\", c)\n",
        "\n",
        "c = d | b      #Use of |\n",
        "print (d, \"|\", b, \"-->\", c)"
      ],
      "metadata": {
        "colab": {
          "base_uri": "https://localhost:8080/"
        },
        "id": "BFOF5L7nvOJp",
        "outputId": "9be43853-7a11-41f7-a7d0-c5f8a7beff9d"
      },
      "execution_count": 5,
      "outputs": [
        {
          "output_type": "stream",
          "name": "stdout",
          "text": [
            "1 | 0 --> 1\n",
            "1 | 0 --> 1\n"
          ]
        }
      ]
    },
    {
      "cell_type": "code",
      "source": [
        "#-------------------------------\n",
        "#2.2.3: Use of ~ (not) operator\n",
        "#-------------------------------\n",
        "a = 0\n",
        "b = 1\n",
        "\n",
        "c = ~a #Use of ~\n",
        "print (\"~\", a, \"-->\", c) #sign bit is used\n",
        "\n",
        "c = ~b #Use of ~\n",
        "print (\"~\", b, \"-->\", c) #sign bit is used"
      ],
      "metadata": {
        "colab": {
          "base_uri": "https://localhost:8080/"
        },
        "id": "0xQX8u6Zvhc5",
        "outputId": "8bda0ebc-2412-4423-c59b-2d09a8867ae2"
      },
      "execution_count": null,
      "outputs": [
        {
          "output_type": "stream",
          "name": "stdout",
          "text": [
            "~ 0 --> -1\n",
            "~ 1 --> -2\n"
          ]
        }
      ]
    },
    {
      "cell_type": "code",
      "source": [
        "#---------------------------------\n",
        "#Another example of not operator\n",
        "#---------------------------------\n",
        "a = 15\n",
        "b = 5\n",
        "\n",
        "c = ~a #Use of ~\n",
        "print (\"~\", a, \"-->\", c) #sign bit is used\n",
        "\n",
        "c = ~b #Use of ~\n",
        "print (\"~\", b, \"-->\", c) #sign bit is used"
      ],
      "metadata": {
        "colab": {
          "base_uri": "https://localhost:8080/"
        },
        "id": "jxrcU4EHxA7g",
        "outputId": "836fd70d-a538-4074-b0de-4883d89de5a4"
      },
      "execution_count": 8,
      "outputs": [
        {
          "output_type": "stream",
          "name": "stdout",
          "text": [
            "~ 15 --> -16\n",
            "~ 5 --> -6\n"
          ]
        }
      ]
    },
    {
      "cell_type": "code",
      "source": [
        "#-----------------------\n",
        "#Use of ^ (xor) operator\n",
        "#-----------------------\n",
        "\n",
        "a = 1\n",
        "b = 0\n",
        "d = 1\n",
        "\n",
        "c = a ^ b #Use of ^\n",
        "print (a, \"^\", b, \"-->\", c)\n",
        "\n",
        "c = d ^ b #Use of ^\n",
        "print (d, \"^\", b, \"-->\", c)"
      ],
      "metadata": {
        "colab": {
          "base_uri": "https://localhost:8080/"
        },
        "id": "fyuavlnox_Y8",
        "outputId": "cb4e4672-31d0-4250-e0e2-e4cabe864539"
      },
      "execution_count": 9,
      "outputs": [
        {
          "output_type": "stream",
          "name": "stdout",
          "text": [
            "1 ^ 0 --> 1\n",
            "1 ^ 0 --> 1\n"
          ]
        }
      ]
    },
    {
      "cell_type": "code",
      "source": [
        "#--------------------------------\n",
        "#Use of >> (right shift) opertors\n",
        "#--------------------------------\n",
        "\n",
        "a = 30\n",
        "b = 2\n",
        "d = 1\n",
        "\n",
        "c = a >> b #Use of >>\n",
        "print (a, \">>\", b, \"-->\", c)\n",
        "\n",
        "c = d >> b #Use of >>\n",
        "print (d, \">>\", b, \"-->\", c)"
      ],
      "metadata": {
        "colab": {
          "base_uri": "https://localhost:8080/"
        },
        "id": "_iH8fgQUzWj2",
        "outputId": "7e53a9e5-c769-4a24-bfa6-ba35e27ae209"
      },
      "execution_count": 11,
      "outputs": [
        {
          "output_type": "stream",
          "name": "stdout",
          "text": [
            "30 >> 2 --> 7\n",
            "1 >> 2 --> 0\n"
          ]
        }
      ]
    },
    {
      "cell_type": "code",
      "source": [
        "#--------------------------------\n",
        "#Use of << (left shift) opertors\n",
        "#--------------------------------\n",
        "\n",
        "a = 10\n",
        "b = 0\n",
        "d = 2\n",
        "\n",
        "c = a >> b #Use of <<\n",
        "print (a, \"<<\", b, \"-->\", c)\n",
        "\n",
        "c = d >> b #Use of <<\n",
        "print (d, \"<<\", b, \"-->\", c)"
      ],
      "metadata": {
        "id": "4WK2r67jtrNn",
        "outputId": "872ecc1d-c9da-48a6-a2d8-aee97286262a",
        "colab": {
          "base_uri": "https://localhost:8080/"
        }
      },
      "execution_count": 14,
      "outputs": [
        {
          "output_type": "stream",
          "name": "stdout",
          "text": [
            "10 << 0 --> 10\n",
            "2 << 0 --> 2\n"
          ]
        }
      ]
    },
    {
      "cell_type": "code",
      "source": [
        "#--------------------------------------\n",
        "# 2.3.1: Use of Assignment Operators\n",
        "#--------------------------------------\n",
        "#1. Use of +=\n",
        "a = 20\n",
        "print (\"a  =\", a)\n",
        "\n",
        "a += 10    \n",
        "print (\"a += 10 -->\", a)"
      ],
      "metadata": {
        "id": "chN3q3-9trR-"
      },
      "execution_count": null,
      "outputs": []
    },
    {
      "cell_type": "code",
      "source": [
        "#------------------------------------------------------------------------\n",
        "# 2.3.2: Use of -=\n",
        "#------------------------------------------------------------------------\n",
        "a = 20\n",
        "print (\"a  =\", a)\n",
        "\n",
        "a -= 10    \n",
        "print (\"a -= 10 -->\", a)\n"
      ],
      "metadata": {
        "id": "N9MlnrpUtrU2"
      },
      "execution_count": null,
      "outputs": []
    },
    {
      "cell_type": "code",
      "source": [
        "#------------------------------------------------------------------------\n",
        "# 2.3.3: Use of *=\n",
        "#------------------------------------------------------------------------\n",
        "a = 20\n",
        "print (\"a  =\", a)\n",
        "\n",
        "a *= 10\n",
        "print (\"a *= 10 -->\", a)"
      ],
      "metadata": {
        "id": "b5cahLCRtrX1"
      },
      "execution_count": null,
      "outputs": []
    },
    {
      "cell_type": "code",
      "source": [
        "#------------------------------------------------------------------------\n",
        "# 2.3.4: Use of /= and //=\n",
        "#------------------------------------------------------------------------\n",
        "a = 20\n",
        "print (\"\\n a  =\", a)\n",
        "\n",
        "a /= 10    \n",
        "print (\" a /= 10  -->\", a)\n",
        "\n",
        "a = 20\n",
        "print (\"\\n a   =\", a)\n",
        "\n",
        "a //= 10    \n",
        "print (\" a //= 10 -->\", a)"
      ],
      "metadata": {
        "id": "rFXT1ipftraW"
      },
      "execution_count": null,
      "outputs": []
    },
    {
      "cell_type": "code",
      "source": [],
      "metadata": {
        "id": "UlVuuJojtrwW"
      },
      "execution_count": null,
      "outputs": []
    },
    {
      "cell_type": "code",
      "source": [],
      "metadata": {
        "id": "aSxSCOpgtryn"
      },
      "execution_count": null,
      "outputs": []
    },
    {
      "cell_type": "code",
      "source": [],
      "metadata": {
        "id": "XRP-fjbstr1A"
      },
      "execution_count": null,
      "outputs": []
    },
    {
      "cell_type": "code",
      "source": [],
      "metadata": {
        "id": "H0xjnzGItr2e"
      },
      "execution_count": null,
      "outputs": []
    }
  ]
}